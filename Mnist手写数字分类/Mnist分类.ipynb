{
 "cells": [
  {
   "cell_type": "code",
   "execution_count": 40,
   "metadata": {
    "collapsed": true
   },
   "outputs": [
    {
     "name": "stdout",
     "output_type": "stream",
     "text": [
      "2.0.0+cu117\n"
     ]
    }
   ],
   "source": [
    "# 导入数据集\n",
    "import torch\n",
    "\n",
    "print(torch.__version__)"
   ]
  },
  {
   "cell_type": "code",
   "execution_count": 41,
   "outputs": [],
   "source": [
    "from pathlib import Path\n",
    "import requests\n",
    "\n",
    "DATA_PATH = Path(\"data\")\n",
    "PATH = DATA_PATH / \"mnist\"\n",
    "\n",
    "PATH.mkdir(parents=True, exist_ok=True)\n",
    "\n",
    "URL = \"http://deeplearning.net/data/mnist/\"\n",
    "FILENAME = \"mnist.pkl.gz\"\n",
    "\n",
    "if not (PATH / FILENAME).exists():\n",
    "    content = requests.get(URL + FILENAME).content\n",
    "    (PATH / FILENAME).open(\"wb\").write(content)"
   ],
   "metadata": {
    "collapsed": false
   }
  },
  {
   "cell_type": "code",
   "execution_count": 42,
   "outputs": [],
   "source": [
    "# 读入数据\n",
    "import pickle\n",
    "import gzip\n",
    "\n",
    "with gzip.open((PATH / FILENAME).as_posix(), \"rb\") as f:\n",
    "    ((x_train, y_train), (x_valid, y_valid), _) = pickle.load(f, encoding=\"latin-1\")"
   ],
   "metadata": {
    "collapsed": false
   }
  },
  {
   "cell_type": "code",
   "execution_count": 43,
   "outputs": [
    {
     "data": {
      "text/plain": "(50000, 784)"
     },
     "execution_count": 43,
     "metadata": {},
     "output_type": "execute_result"
    }
   ],
   "source": [
    "x_train.shape"
   ],
   "metadata": {
    "collapsed": false
   }
  },
  {
   "cell_type": "markdown",
   "source": [
    "即总共有50000张图片，每张图片像素点个数为28 * 28 * 1 = 784"
   ],
   "metadata": {
    "collapsed": false
   }
  },
  {
   "cell_type": "code",
   "execution_count": 44,
   "outputs": [
    {
     "data": {
      "text/plain": "array([[0.        , 0.        , 0.        , 0.        , 0.        ,\n        0.        , 0.        , 0.        , 0.        , 0.        ,\n        0.        , 0.        , 0.        , 0.        , 0.        ,\n        0.        , 0.        , 0.        , 0.        , 0.        ,\n        0.        , 0.        , 0.        , 0.        , 0.        ,\n        0.        , 0.        , 0.        ],\n       [0.        , 0.        , 0.        , 0.        , 0.        ,\n        0.        , 0.        , 0.        , 0.        , 0.        ,\n        0.        , 0.        , 0.        , 0.        , 0.        ,\n        0.        , 0.        , 0.        , 0.        , 0.        ,\n        0.        , 0.        , 0.        , 0.        , 0.        ,\n        0.        , 0.        , 0.        ],\n       [0.        , 0.        , 0.        , 0.        , 0.        ,\n        0.        , 0.        , 0.        , 0.        , 0.        ,\n        0.        , 0.        , 0.        , 0.        , 0.        ,\n        0.        , 0.        , 0.        , 0.        , 0.        ,\n        0.        , 0.        , 0.        , 0.        , 0.        ,\n        0.        , 0.        , 0.        ],\n       [0.        , 0.        , 0.        , 0.        , 0.        ,\n        0.        , 0.        , 0.        , 0.        , 0.        ,\n        0.        , 0.        , 0.        , 0.        , 0.        ,\n        0.        , 0.        , 0.        , 0.        , 0.        ,\n        0.        , 0.        , 0.        , 0.        , 0.        ,\n        0.        , 0.        , 0.        ],\n       [0.        , 0.        , 0.        , 0.        , 0.        ,\n        0.        , 0.        , 0.        , 0.        , 0.        ,\n        0.        , 0.        , 0.        , 0.        , 0.        ,\n        0.        , 0.        , 0.        , 0.        , 0.        ,\n        0.        , 0.        , 0.        , 0.        , 0.        ,\n        0.        , 0.        , 0.        ],\n       [0.        , 0.        , 0.        , 0.        , 0.        ,\n        0.        , 0.        , 0.        , 0.        , 0.        ,\n        0.        , 0.        , 0.01171875, 0.0703125 , 0.0703125 ,\n        0.0703125 , 0.4921875 , 0.53125   , 0.68359375, 0.1015625 ,\n        0.6484375 , 0.99609375, 0.96484375, 0.49609375, 0.        ,\n        0.        , 0.        , 0.        ],\n       [0.        , 0.        , 0.        , 0.        , 0.        ,\n        0.        , 0.        , 0.        , 0.1171875 , 0.140625  ,\n        0.3671875 , 0.6015625 , 0.6640625 , 0.98828125, 0.98828125,\n        0.98828125, 0.98828125, 0.98828125, 0.87890625, 0.671875  ,\n        0.98828125, 0.9453125 , 0.76171875, 0.25      , 0.        ,\n        0.        , 0.        , 0.        ],\n       [0.        , 0.        , 0.        , 0.        , 0.        ,\n        0.        , 0.        , 0.19140625, 0.9296875 , 0.98828125,\n        0.98828125, 0.98828125, 0.98828125, 0.98828125, 0.98828125,\n        0.98828125, 0.98828125, 0.98046875, 0.36328125, 0.3203125 ,\n        0.3203125 , 0.21875   , 0.15234375, 0.        , 0.        ,\n        0.        , 0.        , 0.        ],\n       [0.        , 0.        , 0.        , 0.        , 0.        ,\n        0.        , 0.        , 0.0703125 , 0.85546875, 0.98828125,\n        0.98828125, 0.98828125, 0.98828125, 0.98828125, 0.7734375 ,\n        0.7109375 , 0.96484375, 0.94140625, 0.        , 0.        ,\n        0.        , 0.        , 0.        , 0.        , 0.        ,\n        0.        , 0.        , 0.        ],\n       [0.        , 0.        , 0.        , 0.        , 0.        ,\n        0.        , 0.        , 0.        , 0.3125    , 0.609375  ,\n        0.41796875, 0.98828125, 0.98828125, 0.80078125, 0.04296875,\n        0.        , 0.16796875, 0.6015625 , 0.        , 0.        ,\n        0.        , 0.        , 0.        , 0.        , 0.        ,\n        0.        , 0.        , 0.        ],\n       [0.        , 0.        , 0.        , 0.        , 0.        ,\n        0.        , 0.        , 0.        , 0.        , 0.0546875 ,\n        0.00390625, 0.6015625 , 0.98828125, 0.3515625 , 0.        ,\n        0.        , 0.        , 0.        , 0.        , 0.        ,\n        0.        , 0.        , 0.        , 0.        , 0.        ,\n        0.        , 0.        , 0.        ],\n       [0.        , 0.        , 0.        , 0.        , 0.        ,\n        0.        , 0.        , 0.        , 0.        , 0.        ,\n        0.        , 0.54296875, 0.98828125, 0.7421875 , 0.0078125 ,\n        0.        , 0.        , 0.        , 0.        , 0.        ,\n        0.        , 0.        , 0.        , 0.        , 0.        ,\n        0.        , 0.        , 0.        ],\n       [0.        , 0.        , 0.        , 0.        , 0.        ,\n        0.        , 0.        , 0.        , 0.        , 0.        ,\n        0.        , 0.04296875, 0.7421875 , 0.98828125, 0.2734375 ,\n        0.        , 0.        , 0.        , 0.        , 0.        ,\n        0.        , 0.        , 0.        , 0.        , 0.        ,\n        0.        , 0.        , 0.        ],\n       [0.        , 0.        , 0.        , 0.        , 0.        ,\n        0.        , 0.        , 0.        , 0.        , 0.        ,\n        0.        , 0.        , 0.13671875, 0.94140625, 0.87890625,\n        0.625     , 0.421875  , 0.00390625, 0.        , 0.        ,\n        0.        , 0.        , 0.        , 0.        , 0.        ,\n        0.        , 0.        , 0.        ],\n       [0.        , 0.        , 0.        , 0.        , 0.        ,\n        0.        , 0.        , 0.        , 0.        , 0.        ,\n        0.        , 0.        , 0.        , 0.31640625, 0.9375    ,\n        0.98828125, 0.98828125, 0.46484375, 0.09765625, 0.        ,\n        0.        , 0.        , 0.        , 0.        , 0.        ,\n        0.        , 0.        , 0.        ],\n       [0.        , 0.        , 0.        , 0.        , 0.        ,\n        0.        , 0.        , 0.        , 0.        , 0.        ,\n        0.        , 0.        , 0.        , 0.        , 0.17578125,\n        0.7265625 , 0.98828125, 0.98828125, 0.5859375 , 0.10546875,\n        0.        , 0.        , 0.        , 0.        , 0.        ,\n        0.        , 0.        , 0.        ],\n       [0.        , 0.        , 0.        , 0.        , 0.        ,\n        0.        , 0.        , 0.        , 0.        , 0.        ,\n        0.        , 0.        , 0.        , 0.        , 0.        ,\n        0.0625    , 0.36328125, 0.984375  , 0.98828125, 0.73046875,\n        0.        , 0.        , 0.        , 0.        , 0.        ,\n        0.        , 0.        , 0.        ],\n       [0.        , 0.        , 0.        , 0.        , 0.        ,\n        0.        , 0.        , 0.        , 0.        , 0.        ,\n        0.        , 0.        , 0.        , 0.        , 0.        ,\n        0.        , 0.        , 0.97265625, 0.98828125, 0.97265625,\n        0.25      , 0.        , 0.        , 0.        , 0.        ,\n        0.        , 0.        , 0.        ],\n       [0.        , 0.        , 0.        , 0.        , 0.        ,\n        0.        , 0.        , 0.        , 0.        , 0.        ,\n        0.        , 0.        , 0.        , 0.        , 0.1796875 ,\n        0.5078125 , 0.71484375, 0.98828125, 0.98828125, 0.80859375,\n        0.0078125 , 0.        , 0.        , 0.        , 0.        ,\n        0.        , 0.        , 0.        ],\n       [0.        , 0.        , 0.        , 0.        , 0.        ,\n        0.        , 0.        , 0.        , 0.        , 0.        ,\n        0.        , 0.        , 0.15234375, 0.578125  , 0.89453125,\n        0.98828125, 0.98828125, 0.98828125, 0.9765625 , 0.7109375 ,\n        0.        , 0.        , 0.        , 0.        , 0.        ,\n        0.        , 0.        , 0.        ],\n       [0.        , 0.        , 0.        , 0.        , 0.        ,\n        0.        , 0.        , 0.        , 0.        , 0.        ,\n        0.09375   , 0.4453125 , 0.86328125, 0.98828125, 0.98828125,\n        0.98828125, 0.98828125, 0.78515625, 0.3046875 , 0.        ,\n        0.        , 0.        , 0.        , 0.        , 0.        ,\n        0.        , 0.        , 0.        ],\n       [0.        , 0.        , 0.        , 0.        , 0.        ,\n        0.        , 0.        , 0.        , 0.08984375, 0.2578125 ,\n        0.83203125, 0.98828125, 0.98828125, 0.98828125, 0.98828125,\n        0.7734375 , 0.31640625, 0.0078125 , 0.        , 0.        ,\n        0.        , 0.        , 0.        , 0.        , 0.        ,\n        0.        , 0.        , 0.        ],\n       [0.        , 0.        , 0.        , 0.        , 0.        ,\n        0.        , 0.0703125 , 0.66796875, 0.85546875, 0.98828125,\n        0.98828125, 0.98828125, 0.98828125, 0.76171875, 0.3125    ,\n        0.03515625, 0.        , 0.        , 0.        , 0.        ,\n        0.        , 0.        , 0.        , 0.        , 0.        ,\n        0.        , 0.        , 0.        ],\n       [0.        , 0.        , 0.        , 0.        , 0.21484375,\n        0.671875  , 0.8828125 , 0.98828125, 0.98828125, 0.98828125,\n        0.98828125, 0.953125  , 0.51953125, 0.04296875, 0.        ,\n        0.        , 0.        , 0.        , 0.        , 0.        ,\n        0.        , 0.        , 0.        , 0.        , 0.        ,\n        0.        , 0.        , 0.        ],\n       [0.        , 0.        , 0.        , 0.        , 0.53125   ,\n        0.98828125, 0.98828125, 0.98828125, 0.828125  , 0.52734375,\n        0.515625  , 0.0625    , 0.        , 0.        , 0.        ,\n        0.        , 0.        , 0.        , 0.        , 0.        ,\n        0.        , 0.        , 0.        , 0.        , 0.        ,\n        0.        , 0.        , 0.        ],\n       [0.        , 0.        , 0.        , 0.        , 0.        ,\n        0.        , 0.        , 0.        , 0.        , 0.        ,\n        0.        , 0.        , 0.        , 0.        , 0.        ,\n        0.        , 0.        , 0.        , 0.        , 0.        ,\n        0.        , 0.        , 0.        , 0.        , 0.        ,\n        0.        , 0.        , 0.        ],\n       [0.        , 0.        , 0.        , 0.        , 0.        ,\n        0.        , 0.        , 0.        , 0.        , 0.        ,\n        0.        , 0.        , 0.        , 0.        , 0.        ,\n        0.        , 0.        , 0.        , 0.        , 0.        ,\n        0.        , 0.        , 0.        , 0.        , 0.        ,\n        0.        , 0.        , 0.        ],\n       [0.        , 0.        , 0.        , 0.        , 0.        ,\n        0.        , 0.        , 0.        , 0.        , 0.        ,\n        0.        , 0.        , 0.        , 0.        , 0.        ,\n        0.        , 0.        , 0.        , 0.        , 0.        ,\n        0.        , 0.        , 0.        , 0.        , 0.        ,\n        0.        , 0.        , 0.        ]], dtype=float32)"
     },
     "execution_count": 44,
     "metadata": {},
     "output_type": "execute_result"
    }
   ],
   "source": [
    "# x_train[0]  # 第一张图片\n",
    "x_train[0].reshape(28, 28)  # 转换为二维，图像"
   ],
   "metadata": {
    "collapsed": false
   }
  },
  {
   "cell_type": "code",
   "execution_count": 45,
   "outputs": [
    {
     "data": {
      "text/plain": "(50000,)"
     },
     "execution_count": 45,
     "metadata": {},
     "output_type": "execute_result"
    }
   ],
   "source": [
    "y_train[:].shape  # 代表50000张预测结果"
   ],
   "metadata": {
    "collapsed": false
   }
  },
  {
   "cell_type": "code",
   "execution_count": 46,
   "outputs": [
    {
     "name": "stdout",
     "output_type": "stream",
     "text": [
      "(50000, 784)\n"
     ]
    },
    {
     "data": {
      "text/plain": "<Figure size 640x480 with 1 Axes>",
      "image/png": "[encoded data removed]"
     },
     "metadata": {},
     "output_type": "display_data"
    }
   ],
   "source": [
    "from matplotlib import pyplot\n",
    "import numpy as np\n",
    "\n",
    "pyplot.imshow(x_train[0].reshape((28, 28)), cmap=\"gray\")\n",
    "print(x_train.shape)"
   ],
   "metadata": {
    "collapsed": false
   }
  },
  {
   "cell_type": "markdown",
   "source": [
    "注意数据需转换成tensor才能参与后续建模训练"
   ],
   "metadata": {
    "collapsed": false
   }
  },
  {
   "cell_type": "code",
   "execution_count": 47,
   "outputs": [
    {
     "name": "stdout",
     "output_type": "stream",
     "text": [
      "tensor([[0., 0., 0.,  ..., 0., 0., 0.],\n",
      "        [0., 0., 0.,  ..., 0., 0., 0.],\n",
      "        [0., 0., 0.,  ..., 0., 0., 0.],\n",
      "        ...,\n",
      "        [0., 0., 0.,  ..., 0., 0., 0.],\n",
      "        [0., 0., 0.,  ..., 0., 0., 0.],\n",
      "        [0., 0., 0.,  ..., 0., 0., 0.]]) tensor([5, 0, 4,  ..., 8, 4, 8])\n",
      "torch.Size([50000, 784])\n",
      "tensor(0) tensor(9)\n"
     ]
    }
   ],
   "source": [
    "import torch\n",
    "# 都映射为Tensor格式\n",
    "x_train, y_train, x_valid, y_valid = map(\n",
    "    torch.tensor, (x_train, y_train, x_valid, y_valid)\n",
    ")\n",
    "n, c = x_train.shape\n",
    "x_train, x_train.shape, y_train.min(), y_train.max()\n",
    "print(x_train, y_train)\n",
    "print(x_train.shape)\n",
    "print(y_train.min(), y_train.max())"
   ],
   "metadata": {
    "collapsed": false
   }
  },
  {
   "cell_type": "code",
   "execution_count": 48,
   "outputs": [],
   "source": [
    "import torch.nn.functional as F\n",
    "# 交叉熵损失\n",
    "loss_func = F.cross_entropy\n",
    "\n",
    "def model(xb):\n",
    "    return xb.mm(weights) + bias"
   ],
   "metadata": {
    "collapsed": false
   }
  },
  {
   "cell_type": "code",
   "execution_count": 49,
   "outputs": [
    {
     "name": "stdout",
     "output_type": "stream",
     "text": [
      "torch.Size([10])\n",
      "tensor(14.0665, grad_fn=<NllLossBackward0>)\n"
     ]
    }
   ],
   "source": [
    "bs = 64  # batchsize\n",
    "xb = x_train[0:bs]  # a mini-batch from x\n",
    "yb = y_train[0:bs]  # 每一批取64张图片\n",
    "weights = torch.randn([784, 10], dtype = torch.float,  requires_grad = True)  # w为784*10 每一个x为784*1  bias为常数 10列\n",
    "bs = 64\n",
    "bias = torch.zeros(10, requires_grad=True)\n",
    "print(torch.zeros(10, requires_grad=True).shape)\n",
    "print(loss_func(model(xb), yb))  # （预测值，真实值）"
   ],
   "metadata": {
    "collapsed": false
   }
  },
  {
   "cell_type": "markdown",
   "source": [
    "<img src=\"./img/5.png\" alt=\"FAO\" width=\"790\">"
   ],
   "metadata": {
    "collapsed": false
   }
  },
  {
   "cell_type": "code",
   "execution_count": 50,
   "outputs": [],
   "source": [
    "# FC = WX + b 全连接神经网络\n",
    "# 输入是784个像素点（一个batch）\n",
    "# 例如hidden layer 取128个神经元，两层，W1:784 * 128 b1: 128 ,,, 则W2: 128*10 b2: 10\n",
    "# 输出的是该样本分别属于10个类别的概率\n",
    "from torch import nn\n",
    "\n",
    "class Mnist_NN(nn.Module):  # 必须继承nn.Module且在其构造函数中需调用nn.Module的构造函数\n",
    "    # 定义网络\n",
    "    def __init__(self):\n",
    "        super().__init__()\n",
    "        self.hidden1 = nn.Linear(784, 128)\n",
    "        self.hidden2 = nn.Linear(128, 256)  # 两层hidden layer ，b已隐含在Linear\n",
    "        self.out  = nn.Linear(256, 10)\n",
    "        self.dropout = nn.Dropout(0.5)  # 杀死一半神经元\n",
    "\n",
    "    # 前向传播——自定义\n",
    "    def forward(self, x):\n",
    "        x = F.relu(self.hidden1(x))  # 64 * 784 ————> 64 * 128\n",
    "        x = F.relu(self.hidden2(x))  # 64 * 128 ————> 64 * 256\n",
    "        x = self.out(x)  # 64 * 256  ————> 64 * 10 即最后得到输出结果\n",
    "        return x\n",
    "\n",
    "# 无需写反向传播函数，nn.Module能够利用autograd自动实现反向传播\n",
    "# Module中的可学习参数可以通过named_parameters()或者parameters()返回迭代器"
   ],
   "metadata": {
    "collapsed": false
   }
  },
  {
   "cell_type": "code",
   "execution_count": 51,
   "outputs": [
    {
     "name": "stdout",
     "output_type": "stream",
     "text": [
      "Mnist_NN(\n",
      "  (hidden1): Linear(in_features=784, out_features=128, bias=True)\n",
      "  (hidden2): Linear(in_features=128, out_features=256, bias=True)\n",
      "  (out): Linear(in_features=256, out_features=10, bias=True)\n",
      "  (dropout): Dropout(p=0.5, inplace=False)\n",
      ")\n"
     ]
    }
   ],
   "source": [
    "# 类做实例化，定义好网络模型\n",
    "net = Mnist_NN()\n",
    "print(net)"
   ],
   "metadata": {
    "collapsed": false
   }
  },
  {
   "cell_type": "markdown",
   "source": [
    "使用TensorDataset和DataLoader来简化"
   ],
   "metadata": {
    "collapsed": false
   }
  },
  {
   "cell_type": "code",
   "execution_count": 52,
   "outputs": [],
   "source": [
    "from torch.utils.data import TensorDataset\n",
    "from torch.utils.data import DataLoader\n",
    "# DateLoader即将数据Batch打包送往GPU\n",
    "train_ds = TensorDataset(x_train, y_train)\n",
    "train_dl = DataLoader(train_ds, batch_size=bs, shuffle=True)  # shuffle将训练模型的数据集进行打乱的操作，获得随机性\n",
    "\n",
    "valid_ds = TensorDataset(x_valid, y_valid)\n",
    "valid_dl = DataLoader(valid_ds, batch_size=bs * 2)"
   ],
   "metadata": {
    "collapsed": false
   }
  },
  {
   "cell_type": "code",
   "execution_count": 53,
   "outputs": [],
   "source": [
    "def get_data(train_ds, valid_ds, bs):  # batchsize\n",
    "    return (\n",
    "        DataLoader(train_ds, batch_size=bs, shuffle=True),\n",
    "        DataLoader(valid_ds, batch_size=bs * 2),\n",
    "    )"
   ],
   "metadata": {
    "collapsed": false
   }
  },
  {
   "cell_type": "code",
   "execution_count": 54,
   "outputs": [],
   "source": [
    "import numpy as np\n",
    "\n",
    "# 有了模型和数据，接下来就是训练\n",
    "def fit(steps, model, loss_func, opt, train_dl, valid_dl):\n",
    "    # steps迭代多少轮, model可以是继承nn.module的模型, loss_func损失函数, opt优化器, train_dl训练数据dataloader, valid_dl验证数据dataloader\n",
    "    for step in range(steps):  # epoch，与数据的batch有关\n",
    "        model.train()  # 训练steps轮 -- 更新权重参数w，b\n",
    "        for xb, yb in train_dl:  # 遍历数据打包\n",
    "            loss_batch(model, loss_func, xb, yb, opt)\n",
    "\n",
    "        # 与\n",
    "        model.eval()  # 验证steps轮\n",
    "        with torch.no_grad():  # 没有梯度时\n",
    "            losses, nums = zip(  # 一个loss对应一个number(就是每一批数据对应一个损失值)\n",
    "                *[loss_batch(model, loss_func, xb, yb) for xb, yb in valid_dl]\n",
    "            )  # 这里是解开，可以单独解开拿到loss 或者 是样本个数\n",
    "        val_loss = np.sum(np.multiply(losses, nums)) / np.sum(nums)\n",
    "        # 计算验证集的损失，将loss与nums相乘，计算总的损失，再比上样本个数np.sum(nums)，即可得到平均损失\n",
    "        print('当前step:'+str(step), '验证集损失：'+str(val_loss))"
   ],
   "metadata": {
    "collapsed": false
   }
  },
  {
   "cell_type": "code",
   "execution_count": 55,
   "outputs": [
    {
     "name": "stdout",
     "output_type": "stream",
     "text": [
      "[(1, 5), (2, 6), (3, 4)]\n",
      "(1, 2, 3)\n",
      "(5, 6, 4)\n"
     ]
    }
   ],
   "source": [
    "# zip用法 -- 进行配对\n",
    "a = [1,2,3]\n",
    "b = [5,6,4]\n",
    "zipped = zip(a,b)\n",
    "print(list(zipped))\n",
    "a1,b1 = zip(*zip(a,b))  # 解包\n",
    "print(a1)\n",
    "print(b1)"
   ],
   "metadata": {
    "collapsed": false
   }
  },
  {
   "cell_type": "code",
   "execution_count": 56,
   "outputs": [
    {
     "name": "stdout",
     "output_type": "stream",
     "text": [
      "当前step:0 验证集损失：2.2787304477691652\n",
      "当前step:1 验证集损失：2.243511073303223\n",
      "当前step:2 验证集损失：2.189310815811157\n",
      "当前step:3 验证集损失：2.10183118019104\n",
      "当前step:4 验证集损失：1.962254545211792\n",
      "当前step:5 验证集损失：1.7566653102874756\n",
      "当前step:6 验证集损失：1.5010380350112915\n",
      "当前step:7 验证集损失：1.2504851486206054\n",
      "当前step:8 验证集损失：1.0483037469863892\n",
      "当前step:9 验证集损失：0.897750762462616\n",
      "当前step:10 验证集损失：0.7865296887397766\n",
      "当前step:11 验证集损失：0.7027194561004638\n",
      "当前step:12 验证集损失：0.637956395816803\n",
      "当前step:13 验证集损失：0.587904153060913\n",
      "当前step:14 验证集损失：0.5469230088233947\n",
      "当前step:15 验证集损失：0.5141657551288604\n",
      "当前step:16 验证集损失：0.487141569185257\n",
      "当前step:17 验证集损失：0.46555214419364926\n",
      "当前step:18 验证集损失：0.4463377239704132\n",
      "当前step:19 验证集损失：0.42993205165863035\n",
      "当前step:20 验证集损失：0.4166745915412903\n",
      "当前step:21 验证集损失：0.4042728187561035\n",
      "当前step:22 验证集损失：0.3939199858903885\n",
      "当前step:23 验证集损失：0.38466014041900637\n",
      "当前step:24 验证集损失：0.37658345394134524\n"
     ]
    }
   ],
   "source": [
    "# 优化器\n",
    "from torch import optim\n",
    "def get_model():\n",
    "    model = Mnist_NN()\n",
    "    return model, optim.SGD(model.parameters(), lr=0.001)\n",
    "\n",
    "# 1.计算损失 2.更新参数\n",
    "def loss_batch(model, loss_func, xb, yb, opt=None):\n",
    "    loss = loss_func(model(xb), yb)\n",
    "\n",
    "    if opt is not None:\n",
    "        loss.backward()  # 反向传播\n",
    "        opt.step()  # 更新所有参数\n",
    "        opt.zero_grad()  # 更新一次后置零，下一次重新更新, 即表示这一批的batch已经不需要进行到下一次的参数优化\n",
    "\n",
    "    return loss.item(), len(xb)\n",
    "'''\n",
    "在每一次batch'训练完之后，计算得到loss损失函数和相应梯度，都会对模型参数进行调整，那么该batch数据在这一轮训练里面的作用已经完成了。我们不希望这些优化过模型参数的batch的loss梯度累积起来，继续对模型参数优化产生影响。\n",
    "'''\n",
    "\n",
    "\n",
    "\n",
    "train_dl, valid_dl = get_data(train_ds, valid_ds, bs)  # 1.获得数据\n",
    "model, opt = get_model()  # 2.得到模型和优化器\n",
    "fit(25, model, loss_func, opt, train_dl, valid_dl)  # 训练迭代 25个epoch"
   ],
   "metadata": {
    "collapsed": false
   }
  },
  {
   "cell_type": "code",
   "execution_count": 56,
   "outputs": [],
   "source": [],
   "metadata": {
    "collapsed": false
   }
  }
 ],
 "metadata": {
  "kernelspec": {
   "display_name": "Python 3",
   "language": "python",
   "name": "python3"
  },
  "language_info": {
   "codemirror_mode": {
    "name": "ipython",
    "version": 2
   },
   "file_extension": ".py",
   "mimetype": "text/x-python",
   "name": "python",
   "nbconvert_exporter": "python",
   "pygments_lexer": "ipython2",
   "version": "2.7.6"
  }
 },
 "nbformat": 4,
 "nbformat_minor": 0
}
