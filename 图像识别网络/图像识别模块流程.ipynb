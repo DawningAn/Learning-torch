{
 "cells": [
  {
   "cell_type": "code",
   "execution_count": 9,
   "metadata": {
    "collapsed": true
   },
   "outputs": [],
   "source": [
    "'''\n",
    "这里需要用到数据增强，在transforms模块里实现\n",
    "进一步在transforms里完成数据预处理\n",
    "DataLoader模块直接读取batch数据\n",
    "'''\n",
    "import os\n",
    "import torch\n",
    "import matplotlib.pyplot as plt\n",
    "from torchvision import transforms, datasets, models\n",
    "'''\n",
    "transforms:常用的图像预处理方法\n",
    "datasets:常用数据集的dataset实现，MNIST，CIFAR-10，Image-net等\n",
    "models:常用的预训练模型，AlexNet，VGG，ResNet，GoogleNet等\n",
    "'''\n",
    "from torch import nn\n",
    "\n"
   ]
  },
  {
   "cell_type": "markdown",
   "source": [
    "### 网络模块设置：\n",
    "\n",
    "- 加载预训练模型，torchvision中有很多经典网络架构，调用起来十分方便，并且可以用训练好的权重参数来继续训练，也就是所谓的迁移学习\n",
    "- 需要注意的是别人训练好的任务跟我们自己的任务可不是完全一样，需要把最后的head层改一改，一般也就是最后的全连接层，改成自己的任务\n",
    "- 训练时可以全部重头训练，也可以只训练最后咱们任务的层，因为前几层都是做特征提取的，本质任务目标是一致的\n",
    "\n",
    "### 网络模型保存与测试\n",
    "- 模型保存的时候可以带有选择性，例如在验证集中如果当前效果好则保存\n",
    "- 读取模型进行实际测试"
   ],
   "metadata": {
    "collapsed": false
   }
  },
  {
   "cell_type": "code",
   "execution_count": 10,
   "outputs": [],
   "source": [
    "# 数据路径定义 ———— 这里的数据集采用同一类数据放在相同的文件夹里，用文件夹的标号来作为label\n",
    "data_dir = './flower_data/'\n",
    "train_dir = data_dir + '/train'\n",
    "valid_dir = data_dir + '/valid'"
   ],
   "metadata": {
    "collapsed": false
   }
  },
  {
   "cell_type": "code",
   "execution_count": 11,
   "outputs": [],
   "source": [
    "# 数据预处理\n",
    "data_transforms = {\n",
    "    'train':\n",
    "        transforms.Compose([\n",
    "            transforms.Resize([96, 96]),  # 图片大小裁剪为相同\n",
    "            '''\n",
    "            数据不够，要高效利用现有数据，做数据增强，让数据获得多样性''',\n",
    "            transforms.RandomRotation(45),  # 随机旋转 -45° ~ 45°\n",
    "            transforms.CenterCrop(64),  # 从中心开始裁剪，最后送入模型的大小为64*64\n",
    "            transforms.RandomHorizontalFlip(p=0.5),  # 随机水平翻转图像，概率值取0.5\n",
    "            transforms.RandomVerticalFlip(p=0.5),   # 随机垂直翻转，概率值取0.5\n",
    "            transforms.ColorJitter(brightness=0.2, contrast=0.1, saturation=0.1, hue=0.1),#参数1为亮度，参数2为对比度，参数3为饱和度，参数4为色相\n",
    "            transforms.RandomGrayscale(p=0.025),    # 概率转换成灰度率，3通道就是R=G=B\n",
    "            transforms.ToTensor(),  # 数据转换为Tensor结构\n",
    "            transforms.Normalize([0.485, 0.456, 0.406], [0.229, 0.224, 0.225])  # 数据标准化(分别对RGB三个通道)，均值，标准差 (x - μ)/σ\n",
    "        ]),\n",
    "    'valid':\n",
    "        transforms.Compose([\n",
    "        transforms.Resize([64, 64]),\n",
    "        transforms.ToTensor(),\n",
    "        transforms.Normalize([0.485, 0.456, 0.406], [0.229, 0.224, 0.225])\n",
    "    ])\n",
    "}"
   ],
   "metadata": {
    "collapsed": false
   }
  }
 ],
 "metadata": {
  "kernelspec": {
   "display_name": "Python 3",
   "language": "python",
   "name": "python3"
  },
  "language_info": {
   "codemirror_mode": {
    "name": "ipython",
    "version": 2
   },
   "file_extension": ".py",
   "mimetype": "text/x-python",
   "name": "python",
   "nbconvert_exporter": "python",
   "pygments_lexer": "ipython2",
   "version": "2.7.6"
  }
 },
 "nbformat": 4,
 "nbformat_minor": 0
}
