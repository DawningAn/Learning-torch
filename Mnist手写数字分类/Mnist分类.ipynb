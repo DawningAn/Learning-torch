{
 "cells": [
  {
   "cell_type": "code",
   "execution_count": 27,
   "metadata": {
    "collapsed": true
   },
   "outputs": [
    {
     "name": "stdout",
     "output_type": "stream",
     "text": [
      "2.0.0+cu117\n"
     ]
    }
   ],
   "source": [
    "# 导入数据集\n",
    "import torch\n",
    "\n",
    "print(torch.__version__)"
   ]
  },
  {
   "cell_type": "code",
   "execution_count": 28,
   "outputs": [],
   "source": [
    "from pathlib import Path\n",
    "import requests\n",
    "\n",
    "DATA_PATH = Path(\"data\")\n",
    "PATH = DATA_PATH / \"mnist\"\n",
    "\n",
    "PATH.mkdir(parents=True, exist_ok=True)\n",
    "\n",
    "URL = \"http://deeplearning.net/data/mnist/\"\n",
    "FILENAME = \"mnist.pkl.gz\"\n",
    "\n",
    "if not (PATH / FILENAME).exists():\n",
    "    content = requests.get(URL + FILENAME).content\n",
    "    (PATH / FILENAME).open(\"wb\").write(content)"
   ],
   "metadata": {
    "collapsed": false
   }
  },
  {
   "cell_type": "code",
   "execution_count": 29,
   "outputs": [],
   "source": [
    "# 读入数据\n",
    "import pickle\n",
    "import gzip\n",
    "\n",
    "with gzip.open((PATH / FILENAME).as_posix(), \"rb\") as f:\n",
    "    ((x_train, y_train), (x_valid, y_valid), _) = pickle.load(f, encoding=\"latin-1\")"
   ],
   "metadata": {
    "collapsed": false
   }
  },
  {
   "cell_type": "code",
   "execution_count": 30,
   "outputs": [
    {
     "data": {
      "text/plain": "(50000, 784)"
     },
     "execution_count": 30,
     "metadata": {},
     "output_type": "execute_result"
    }
   ],
   "source": [
    "x_train.shape"
   ],
   "metadata": {
    "collapsed": false
   }
  },
  {
   "cell_type": "markdown",
   "source": [
    "即总共有50000张图片，每张图片像素点个数为28 * 28 * 1 = 784"
   ],
   "metadata": {
    "collapsed": false
   }
  },
  {
   "cell_type": "code",
   "execution_count": 31,
   "outputs": [
    {
     "data": {
      "text/plain": "array([[0.        , 0.        , 0.        , 0.        , 0.        ,\n        0.        , 0.        , 0.        , 0.        , 0.        ,\n        0.        , 0.        , 0.        , 0.        , 0.        ,\n        0.        , 0.        , 0.        , 0.        , 0.        ,\n        0.        , 0.        , 0.        , 0.        , 0.        ,\n        0.        , 0.        , 0.        ],\n       [0.        , 0.        , 0.        , 0.        , 0.        ,\n        0.        , 0.        , 0.        , 0.        , 0.        ,\n        0.        , 0.        , 0.        , 0.        , 0.        ,\n        0.        , 0.        , 0.        , 0.        , 0.        ,\n        0.        , 0.        , 0.        , 0.        , 0.        ,\n        0.        , 0.        , 0.        ],\n       [0.        , 0.        , 0.        , 0.        , 0.        ,\n        0.        , 0.        , 0.        , 0.        , 0.        ,\n        0.        , 0.        , 0.        , 0.        , 0.        ,\n        0.        , 0.        , 0.        , 0.        , 0.        ,\n        0.        , 0.        , 0.        , 0.        , 0.        ,\n        0.        , 0.        , 0.        ],\n       [0.        , 0.        , 0.        , 0.        , 0.        ,\n        0.        , 0.        , 0.        , 0.        , 0.        ,\n        0.        , 0.        , 0.        , 0.        , 0.        ,\n        0.        , 0.        , 0.        , 0.        , 0.        ,\n        0.        , 0.        , 0.        , 0.        , 0.        ,\n        0.        , 0.        , 0.        ],\n       [0.        , 0.        , 0.        , 0.        , 0.        ,\n        0.        , 0.        , 0.        , 0.        , 0.        ,\n        0.        , 0.        , 0.        , 0.        , 0.        ,\n        0.        , 0.        , 0.        , 0.        , 0.        ,\n        0.        , 0.        , 0.        , 0.        , 0.        ,\n        0.        , 0.        , 0.        ],\n       [0.        , 0.        , 0.        , 0.        , 0.        ,\n        0.        , 0.        , 0.        , 0.        , 0.        ,\n        0.        , 0.        , 0.01171875, 0.0703125 , 0.0703125 ,\n        0.0703125 , 0.4921875 , 0.53125   , 0.68359375, 0.1015625 ,\n        0.6484375 , 0.99609375, 0.96484375, 0.49609375, 0.        ,\n        0.        , 0.        , 0.        ],\n       [0.        , 0.        , 0.        , 0.        , 0.        ,\n        0.        , 0.        , 0.        , 0.1171875 , 0.140625  ,\n        0.3671875 , 0.6015625 , 0.6640625 , 0.98828125, 0.98828125,\n        0.98828125, 0.98828125, 0.98828125, 0.87890625, 0.671875  ,\n        0.98828125, 0.9453125 , 0.76171875, 0.25      , 0.        ,\n        0.        , 0.        , 0.        ],\n       [0.        , 0.        , 0.        , 0.        , 0.        ,\n        0.        , 0.        , 0.19140625, 0.9296875 , 0.98828125,\n        0.98828125, 0.98828125, 0.98828125, 0.98828125, 0.98828125,\n        0.98828125, 0.98828125, 0.98046875, 0.36328125, 0.3203125 ,\n        0.3203125 , 0.21875   , 0.15234375, 0.        , 0.        ,\n        0.        , 0.        , 0.        ],\n       [0.        , 0.        , 0.        , 0.        , 0.        ,\n        0.        , 0.        , 0.0703125 , 0.85546875, 0.98828125,\n        0.98828125, 0.98828125, 0.98828125, 0.98828125, 0.7734375 ,\n        0.7109375 , 0.96484375, 0.94140625, 0.        , 0.        ,\n        0.        , 0.        , 0.        , 0.        , 0.        ,\n        0.        , 0.        , 0.        ],\n       [0.        , 0.        , 0.        , 0.        , 0.        ,\n        0.        , 0.        , 0.        , 0.3125    , 0.609375  ,\n        0.41796875, 0.98828125, 0.98828125, 0.80078125, 0.04296875,\n        0.        , 0.16796875, 0.6015625 , 0.        , 0.        ,\n        0.        , 0.        , 0.        , 0.        , 0.        ,\n        0.        , 0.        , 0.        ],\n       [0.        , 0.        , 0.        , 0.        , 0.        ,\n        0.        , 0.        , 0.        , 0.        , 0.0546875 ,\n        0.00390625, 0.6015625 , 0.98828125, 0.3515625 , 0.        ,\n        0.        , 0.        , 0.        , 0.        , 0.        ,\n        0.        , 0.        , 0.        , 0.        , 0.        ,\n        0.        , 0.        , 0.        ],\n       [0.        , 0.        , 0.        , 0.        , 0.        ,\n        0.        , 0.        , 0.        , 0.        , 0.        ,\n        0.        , 0.54296875, 0.98828125, 0.7421875 , 0.0078125 ,\n        0.        , 0.        , 0.        , 0.        , 0.        ,\n        0.        , 0.        , 0.        , 0.        , 0.        ,\n        0.        , 0.        , 0.        ],\n       [0.        , 0.        , 0.        , 0.        , 0.        ,\n        0.        , 0.        , 0.        , 0.        , 0.        ,\n        0.        , 0.04296875, 0.7421875 , 0.98828125, 0.2734375 ,\n        0.        , 0.        , 0.        , 0.        , 0.        ,\n        0.        , 0.        , 0.        , 0.        , 0.        ,\n        0.        , 0.        , 0.        ],\n       [0.        , 0.        , 0.        , 0.        , 0.        ,\n        0.        , 0.        , 0.        , 0.        , 0.        ,\n        0.        , 0.        , 0.13671875, 0.94140625, 0.87890625,\n        0.625     , 0.421875  , 0.00390625, 0.        , 0.        ,\n        0.        , 0.        , 0.        , 0.        , 0.        ,\n        0.        , 0.        , 0.        ],\n       [0.        , 0.        , 0.        , 0.        , 0.        ,\n        0.        , 0.        , 0.        , 0.        , 0.        ,\n        0.        , 0.        , 0.        , 0.31640625, 0.9375    ,\n        0.98828125, 0.98828125, 0.46484375, 0.09765625, 0.        ,\n        0.        , 0.        , 0.        , 0.        , 0.        ,\n        0.        , 0.        , 0.        ],\n       [0.        , 0.        , 0.        , 0.        , 0.        ,\n        0.        , 0.        , 0.        , 0.        , 0.        ,\n        0.        , 0.        , 0.        , 0.        , 0.17578125,\n        0.7265625 , 0.98828125, 0.98828125, 0.5859375 , 0.10546875,\n        0.        , 0.        , 0.        , 0.        , 0.        ,\n        0.        , 0.        , 0.        ],\n       [0.        , 0.        , 0.        , 0.        , 0.        ,\n        0.        , 0.        , 0.        , 0.        , 0.        ,\n        0.        , 0.        , 0.        , 0.        , 0.        ,\n        0.0625    , 0.36328125, 0.984375  , 0.98828125, 0.73046875,\n        0.        , 0.        , 0.        , 0.        , 0.        ,\n        0.        , 0.        , 0.        ],\n       [0.        , 0.        , 0.        , 0.        , 0.        ,\n        0.        , 0.        , 0.        , 0.        , 0.        ,\n        0.        , 0.        , 0.        , 0.        , 0.        ,\n        0.        , 0.        , 0.97265625, 0.98828125, 0.97265625,\n        0.25      , 0.        , 0.        , 0.        , 0.        ,\n        0.        , 0.        , 0.        ],\n       [0.        , 0.        , 0.        , 0.        , 0.        ,\n        0.        , 0.        , 0.        , 0.        , 0.        ,\n        0.        , 0.        , 0.        , 0.        , 0.1796875 ,\n        0.5078125 , 0.71484375, 0.98828125, 0.98828125, 0.80859375,\n        0.0078125 , 0.        , 0.        , 0.        , 0.        ,\n        0.        , 0.        , 0.        ],\n       [0.        , 0.        , 0.        , 0.        , 0.        ,\n        0.        , 0.        , 0.        , 0.        , 0.        ,\n        0.        , 0.        , 0.15234375, 0.578125  , 0.89453125,\n        0.98828125, 0.98828125, 0.98828125, 0.9765625 , 0.7109375 ,\n        0.        , 0.        , 0.        , 0.        , 0.        ,\n        0.        , 0.        , 0.        ],\n       [0.        , 0.        , 0.        , 0.        , 0.        ,\n        0.        , 0.        , 0.        , 0.        , 0.        ,\n        0.09375   , 0.4453125 , 0.86328125, 0.98828125, 0.98828125,\n        0.98828125, 0.98828125, 0.78515625, 0.3046875 , 0.        ,\n        0.        , 0.        , 0.        , 0.        , 0.        ,\n        0.        , 0.        , 0.        ],\n       [0.        , 0.        , 0.        , 0.        , 0.        ,\n        0.        , 0.        , 0.        , 0.08984375, 0.2578125 ,\n        0.83203125, 0.98828125, 0.98828125, 0.98828125, 0.98828125,\n        0.7734375 , 0.31640625, 0.0078125 , 0.        , 0.        ,\n        0.        , 0.        , 0.        , 0.        , 0.        ,\n        0.        , 0.        , 0.        ],\n       [0.        , 0.        , 0.        , 0.        , 0.        ,\n        0.        , 0.0703125 , 0.66796875, 0.85546875, 0.98828125,\n        0.98828125, 0.98828125, 0.98828125, 0.76171875, 0.3125    ,\n        0.03515625, 0.        , 0.        , 0.        , 0.        ,\n        0.        , 0.        , 0.        , 0.        , 0.        ,\n        0.        , 0.        , 0.        ],\n       [0.        , 0.        , 0.        , 0.        , 0.21484375,\n        0.671875  , 0.8828125 , 0.98828125, 0.98828125, 0.98828125,\n        0.98828125, 0.953125  , 0.51953125, 0.04296875, 0.        ,\n        0.        , 0.        , 0.        , 0.        , 0.        ,\n        0.        , 0.        , 0.        , 0.        , 0.        ,\n        0.        , 0.        , 0.        ],\n       [0.        , 0.        , 0.        , 0.        , 0.53125   ,\n        0.98828125, 0.98828125, 0.98828125, 0.828125  , 0.52734375,\n        0.515625  , 0.0625    , 0.        , 0.        , 0.        ,\n        0.        , 0.        , 0.        , 0.        , 0.        ,\n        0.        , 0.        , 0.        , 0.        , 0.        ,\n        0.        , 0.        , 0.        ],\n       [0.        , 0.        , 0.        , 0.        , 0.        ,\n        0.        , 0.        , 0.        , 0.        , 0.        ,\n        0.        , 0.        , 0.        , 0.        , 0.        ,\n        0.        , 0.        , 0.        , 0.        , 0.        ,\n        0.        , 0.        , 0.        , 0.        , 0.        ,\n        0.        , 0.        , 0.        ],\n       [0.        , 0.        , 0.        , 0.        , 0.        ,\n        0.        , 0.        , 0.        , 0.        , 0.        ,\n        0.        , 0.        , 0.        , 0.        , 0.        ,\n        0.        , 0.        , 0.        , 0.        , 0.        ,\n        0.        , 0.        , 0.        , 0.        , 0.        ,\n        0.        , 0.        , 0.        ],\n       [0.        , 0.        , 0.        , 0.        , 0.        ,\n        0.        , 0.        , 0.        , 0.        , 0.        ,\n        0.        , 0.        , 0.        , 0.        , 0.        ,\n        0.        , 0.        , 0.        , 0.        , 0.        ,\n        0.        , 0.        , 0.        , 0.        , 0.        ,\n        0.        , 0.        , 0.        ]], dtype=float32)"
     },
     "execution_count": 31,
     "metadata": {},
     "output_type": "execute_result"
    }
   ],
   "source": [
    "# x_train[0]  # 第一张图片\n",
    "x_train[0].reshape(28, 28)  # 转换为二维，图像"
   ],
   "metadata": {
    "collapsed": false
   }
  },
  {
   "cell_type": "code",
   "execution_count": 32,
   "outputs": [
    {
     "data": {
      "text/plain": "(50000,)"
     },
     "execution_count": 32,
     "metadata": {},
     "output_type": "execute_result"
    }
   ],
   "source": [
    "y_train[:].shape  # 代表50000张预测结果"
   ],
   "metadata": {
    "collapsed": false
   }
  },
  {
   "cell_type": "code",
   "execution_count": 33,
   "outputs": [
    {
     "name": "stdout",
     "output_type": "stream",
     "text": [
      "(50000, 784)\n"
     ]
    },
    {
     "data": {
      "text/plain": "<Figure size 640x480 with 1 Axes>",
      "image/png": "[encoded data removed]"
     },
     "metadata": {},
     "output_type": "display_data"
    }
   ],
   "source": [
    "from matplotlib import pyplot\n",
    "import numpy as np\n",
    "\n",
    "pyplot.imshow(x_train[0].reshape((28, 28)), cmap=\"gray\")\n",
    "print(x_train.shape)"
   ],
   "metadata": {
    "collapsed": false
   }
  },
  {
   "cell_type": "markdown",
   "source": [
    "注意数据需转换成tensor才能参与后续建模训练"
   ],
   "metadata": {
    "collapsed": false
   }
  },
  {
   "cell_type": "code",
   "execution_count": 34,
   "outputs": [
    {
     "name": "stdout",
     "output_type": "stream",
     "text": [
      "tensor([[0., 0., 0.,  ..., 0., 0., 0.],\n",
      "        [0., 0., 0.,  ..., 0., 0., 0.],\n",
      "        [0., 0., 0.,  ..., 0., 0., 0.],\n",
      "        ...,\n",
      "        [0., 0., 0.,  ..., 0., 0., 0.],\n",
      "        [0., 0., 0.,  ..., 0., 0., 0.],\n",
      "        [0., 0., 0.,  ..., 0., 0., 0.]]) tensor([5, 0, 4,  ..., 8, 4, 8])\n",
      "torch.Size([50000, 784])\n",
      "tensor(0) tensor(9)\n"
     ]
    }
   ],
   "source": [
    "import torch\n",
    "\n",
    "# 都映射为Tensor格式\n",
    "x_train, y_train, x_valid, y_valid = map(\n",
    "    torch.tensor, (x_train, y_train, x_valid, y_valid)\n",
    ")\n",
    "n, c = x_train.shape\n",
    "x_train, x_train.shape, y_train.min(), y_train.max()\n",
    "print(x_train, y_train)\n",
    "print(x_train.shape)\n",
    "print(y_train.min(), y_train.max())"
   ],
   "metadata": {
    "collapsed": false
   }
  },
  {
   "cell_type": "code",
   "execution_count": 35,
   "outputs": [],
   "source": [
    "import torch.nn.functional as F\n",
    "\n",
    "# 交叉熵损失\n",
    "loss_func = F.cross_entropy\n",
    "\n",
    "\n",
    "def model(xb):\n",
    "    return xb.mm(weights) + bias"
   ],
   "metadata": {
    "collapsed": false
   }
  },
  {
   "cell_type": "code",
   "execution_count": 36,
   "outputs": [
    {
     "name": "stdout",
     "output_type": "stream",
     "text": [
      "torch.Size([10])\n",
      "tensor(12.8135, grad_fn=<NllLossBackward0>)\n"
     ]
    }
   ],
   "source": [
    "bs = 64  # batchsize\n",
    "xb = x_train[0:bs]  # a mini-batch from x\n",
    "yb = y_train[0:bs]  # 每一批取64张图片\n",
    "weights = torch.randn([784, 10], dtype=torch.float, requires_grad=True)  # w为784*10 每一个x为784*1  bias为常数 10列\n",
    "bs = 64\n",
    "bias = torch.zeros(10, requires_grad=True)\n",
    "print(torch.zeros(10, requires_grad=True).shape)\n",
    "print(loss_func(model(xb), yb))  # （预测值，真实值）"
   ],
   "metadata": {
    "collapsed": false
   }
  },
  {
   "cell_type": "markdown",
   "source": [
    "<img src=\"./img/5.png\" alt=\"FAO\" width=\"790\">"
   ],
   "metadata": {
    "collapsed": false
   }
  },
  {
   "cell_type": "code",
   "execution_count": 37,
   "outputs": [],
   "source": [
    "# FC = WX + b 全连接神经网络\n",
    "# 输入是784个像素点（一个batch）\n",
    "# 例如hidden layer 取128个神经元，两层，W1:784 * 128 b1: 128 ,,, 则W2: 128*10 b2: 10\n",
    "# 输出的是该样本分别属于10个类别的概率\n",
    "from torch import nn\n",
    "\n",
    "\n",
    "class Mnist_NN(nn.Module):  # 必须继承nn.Module且在其构造函数中需调用nn.Module的构造函数\n",
    "    # 定义网络\n",
    "    def __init__(self):\n",
    "        super().__init__()\n",
    "        self.hidden1 = nn.Linear(784, 128)\n",
    "        self.hidden2 = nn.Linear(128, 256)  # 两层hidden layer ，b已隐含在Linear\n",
    "        self.out = nn.Linear(256, 10)\n",
    "        self.dropout = nn.Dropout(0.5)  # 杀死一半神经元\n",
    "\n",
    "    # 前向传播——自定义\n",
    "    def forward(self, x):\n",
    "        x = F.relu(self.hidden1(x))  # 64 * 784 ————> 64 * 128\n",
    "        x = F.relu(self.hidden2(x))  # 64 * 128 ————> 64 * 256\n",
    "        x = self.out(x)  # 64 * 256  ————> 64 * 10 即最后得到输出结果\n",
    "        return x\n",
    "\n",
    "# 无需写反向传播函数，nn.Module能够利用autograd自动实现反向传播\n",
    "# Module中的可学习参数可以通过named_parameters()或者parameters()返回迭代器"
   ],
   "metadata": {
    "collapsed": false
   }
  },
  {
   "cell_type": "code",
   "execution_count": 38,
   "outputs": [
    {
     "name": "stdout",
     "output_type": "stream",
     "text": [
      "Mnist_NN(\n",
      "  (hidden1): Linear(in_features=784, out_features=128, bias=True)\n",
      "  (hidden2): Linear(in_features=128, out_features=256, bias=True)\n",
      "  (out): Linear(in_features=256, out_features=10, bias=True)\n",
      "  (dropout): Dropout(p=0.5, inplace=False)\n",
      ")\n"
     ]
    }
   ],
   "source": [
    "# 类做实例化，定义好网络模型\n",
    "net = Mnist_NN()\n",
    "print(net)"
   ],
   "metadata": {
    "collapsed": false
   }
  },
  {
   "cell_type": "markdown",
   "source": [
    "使用TensorDataset和DataLoader来简化"
   ],
   "metadata": {
    "collapsed": false
   }
  },
  {
   "cell_type": "code",
   "execution_count": 39,
   "outputs": [],
   "source": [
    "from torch.utils.data import TensorDataset\n",
    "from torch.utils.data import DataLoader\n",
    "\n",
    "# DateLoader即将数据Batch打包送往GPU\n",
    "train_ds = TensorDataset(x_train, y_train)\n",
    "train_dl = DataLoader(train_ds, batch_size=bs, shuffle=True)  # shuffle将训练模型的数据集进行打乱的操作，获得随机性\n",
    "\n",
    "valid_ds = TensorDataset(x_valid, y_valid)\n",
    "valid_dl = DataLoader(valid_ds, batch_size=bs * 2)"
   ],
   "metadata": {
    "collapsed": false
   }
  },
  {
   "cell_type": "code",
   "execution_count": 40,
   "outputs": [],
   "source": [
    "def get_data(train_ds, valid_ds, bs):  # batchsize\n",
    "    return (\n",
    "        DataLoader(train_ds, batch_size=bs, shuffle=True),\n",
    "        DataLoader(valid_ds, batch_size=bs * 2),\n",
    "    )"
   ],
   "metadata": {
    "collapsed": false
   }
  },
  {
   "cell_type": "code",
   "execution_count": 41,
   "outputs": [],
   "source": [
    "import numpy as np\n",
    "\n",
    "\n",
    "# 有了模型和数据，接下来就是训练\n",
    "def fit(steps, model, loss_func, opt, train_dl, valid_dl):\n",
    "    # steps迭代多少轮, model可以是继承nn.module的模型, loss_func损失函数, opt优化器, train_dl训练数据dataloader, valid_dl验证数据dataloader\n",
    "    for step in range(steps):  # epoch，与数据的batch有关\n",
    "        model.train()  # 训练steps轮 -- 更新权重参数w，b\n",
    "        for xb, yb in train_dl:  # 遍历数据打包\n",
    "            loss_batch(model, loss_func, xb, yb, opt)\n",
    "\n",
    "        # 与\n",
    "        model.eval()  # 验证steps轮\n",
    "        with torch.no_grad():  # 没有梯度时\n",
    "            losses, nums = zip(  # 一个loss对应一个number(就是每一批数据对应一个损失值)\n",
    "                *[loss_batch(model, loss_func, xb, yb) for xb, yb in valid_dl]\n",
    "            )  # 这里是解开，可以单独解开拿到loss 或者 是样本个数\n",
    "        val_loss = np.sum(np.multiply(losses, nums)) / np.sum(nums)\n",
    "        # 计算验证集的损失，将loss与nums相乘，计算总的损失，再比上样本个数np.sum(nums)，即可得到平均损失\n",
    "        print('当前step:' + str(step), '验证集损失：' + str(val_loss))"
   ],
   "metadata": {
    "collapsed": false
   }
  },
  {
   "cell_type": "code",
   "execution_count": 42,
   "outputs": [
    {
     "name": "stdout",
     "output_type": "stream",
     "text": [
      "[(1, 5), (2, 6), (3, 4)]\n",
      "(1, 2, 3)\n",
      "(5, 6, 4)\n"
     ]
    }
   ],
   "source": [
    "# zip用法 -- 进行配对\n",
    "a = [1, 2, 3]\n",
    "b = [5, 6, 4]\n",
    "zipped = zip(a, b)\n",
    "print(list(zipped))\n",
    "a1, b1 = zip(*zip(a, b))  # 解包\n",
    "print(a1)\n",
    "print(b1)"
   ],
   "metadata": {
    "collapsed": false
   }
  },
  {
   "cell_type": "code",
   "execution_count": 43,
   "outputs": [
    {
     "name": "stdout",
     "output_type": "stream",
     "text": [
      "当前step:0 验证集损失：0.13493552518785\n",
      "当前step:1 验证集损失：0.10979250249937177\n",
      "当前step:2 验证集损失：0.09880197596848012\n",
      "当前step:3 验证集损失：0.09297838763296604\n",
      "当前step:4 验证集损失：0.09059687339942903\n",
      "当前step:5 验证集损失：0.09252806170228868\n",
      "当前step:6 验证集损失：0.0942947185988538\n",
      "当前step:7 验证集损失：0.09728429927751422\n",
      "当前step:8 验证集损失：0.09909784176871181\n",
      "当前step:9 验证集损失：0.10378671377263964\n",
      "当前step:10 验证集损失：0.10469342709593475\n",
      "当前step:11 验证集损失：0.11258808255868498\n",
      "当前step:12 验证集损失：0.1240109562828904\n",
      "当前step:13 验证集损失：0.11996841338849626\n",
      "当前step:14 验证集损失：0.14289410865949467\n",
      "当前step:15 验证集损失：0.1115389127304079\n",
      "当前step:16 验证集损失：0.12898701641003135\n",
      "当前step:17 验证集损失：0.15260663023177184\n",
      "当前step:18 验证集损失：0.12175990320676355\n",
      "当前step:19 验证集损失：0.14202047338490376\n",
      "当前step:20 验证集损失：0.13796342310593462\n",
      "当前step:21 验证集损失：0.1337134968128954\n",
      "当前step:22 验证集损失：0.14259795458848248\n",
      "当前step:23 验证集损失：0.15720129236354552\n",
      "当前step:24 验证集损失：0.17348731791549946\n"
     ]
    }
   ],
   "source": [
    "# 优化器\n",
    "from torch import optim\n",
    "\n",
    "\n",
    "def get_model():\n",
    "    model = Mnist_NN()\n",
    "    return model, optim.Adam(model.parameters(), lr=0.001)\n",
    "\n",
    "\n",
    "# 1.计算损失 2.更新参数\n",
    "def loss_batch(model, loss_func, xb, yb, opt=None):\n",
    "    loss = loss_func(model(xb), yb)\n",
    "\n",
    "    if opt is not None:\n",
    "        loss.backward()  # 反向传播\n",
    "        opt.step()  # 更新所有参数\n",
    "        opt.zero_grad()  # 更新一次后置零，下一次重新更新, 即表示这一批的batch已经不需要进行到下一次的参数优化\n",
    "\n",
    "    return loss.item(), len(xb)\n",
    "\n",
    "\n",
    "'''\n",
    "在每一次batch'训练完之后，计算得到loss损失函数和相应梯度，都会对模型参数进行调整，那么该batch数据在这一轮训练里面的作用已经完成了。我们不希望这些优化过模型参数的batch的loss梯度累积起来，继续对模型参数优化产生影响。\n",
    "'''\n",
    "\n",
    "train_dl, valid_dl = get_data(train_ds, valid_ds, bs)  # 1.获得数据\n",
    "model, opt = get_model()  # 2.得到模型和优化器\n",
    "fit(25, model, loss_func, opt, train_dl, valid_dl)  # 训练迭代 25个epoch"
   ],
   "metadata": {
    "collapsed": false
   }
  },
  {
   "cell_type": "markdown",
   "source": [
    "# 练习"
   ],
   "metadata": {
    "collapsed": false
   }
  },
  {
   "cell_type": "code",
   "execution_count": 44,
   "outputs": [
    {
     "name": "stdout",
     "output_type": "stream",
     "text": [
      "tensor([[-47.3098, -18.2802, -30.2562,   6.3072, -52.6972,  36.3068, -26.7845,\n",
      "         -41.3497, -21.4862, -17.0548],\n",
      "        [ 29.5517, -19.7182,  -7.6735, -19.5100, -33.8363, -19.8235,  -9.8674,\n",
      "         -23.0205, -25.1620, -11.6698],\n",
      "        [-18.9329, -10.0561,  -7.4064, -11.8661,  14.6177, -17.4477, -14.1790,\n",
      "          -3.3254,  -2.3840,  -4.6459],\n",
      "        [-15.2178,  13.8495,  -8.9267, -24.8085,  -3.2309, -22.1544, -13.4722,\n",
      "          -2.6204,  -8.0360, -20.1364],\n",
      "        [-29.8075, -18.5832, -18.1894, -14.3028,   1.1365, -19.9879, -26.5294,\n",
      "          -9.2991,  -5.9546,  15.3512],\n",
      "        [-21.2264,  -7.4369,  17.0063, -12.9053,  -6.2728, -21.7724, -16.3860,\n",
      "           1.4229, -13.0696, -24.0961],\n",
      "        [-40.3368,  15.3898, -16.1543, -16.4161, -18.4550, -12.0896, -14.4719,\n",
      "          -4.7131,  -0.1237, -14.7855],\n",
      "        [-62.6836, -31.7775, -24.2663,  38.2194, -37.4304,  -8.0847, -67.8983,\n",
      "         -29.4291,  -7.6150,   1.1743],\n",
      "        [-24.9038,  10.1504, -15.5859,  -8.5789,  -8.3583, -10.0684,  -8.9387,\n",
      "          -0.2796,  -6.0552, -12.0590],\n",
      "        [-21.1452, -17.9514,  -9.7015, -23.1726,  29.8774, -30.9481,  -9.1483,\n",
      "         -11.0898,  -8.2278, -22.9557],\n",
      "        [-41.3053, -17.9084, -27.5158,  25.2747, -20.6966,   4.7724, -42.5608,\n",
      "         -35.4333, -14.8214,   5.9005],\n",
      "        [-13.3802,  -9.4517,  -7.7910,  -5.4028, -11.6486,  13.0857,  -4.7976,\n",
      "         -11.2301,  -5.6721, -13.6117],\n",
      "        [-51.5780, -14.3620, -14.0543,  36.3099, -29.1932,  -7.2073, -47.8674,\n",
      "         -18.5309, -13.4375, -22.3195],\n",
      "        [-18.6874, -22.2678, -33.2083, -28.6760, -19.6720,  -5.7143,  34.1574,\n",
      "         -36.7847,  -1.4921, -30.3480],\n",
      "        [-25.8022,  13.4369, -12.0219, -13.5519,  -8.9017, -22.9347, -13.6507,\n",
      "           5.8338,  -4.0605, -17.7327],\n",
      "        [-21.4143,  -2.2949, -13.2752, -14.7193, -17.3955, -29.5236, -29.1302,\n",
      "          28.0386, -10.3488, -11.0812],\n",
      "        [ -6.1796, -12.9940,  12.9755,  -6.7639, -12.4624, -23.9789, -11.9763,\n",
      "          -6.5675, -12.4650, -22.2309],\n",
      "        [-20.7599,  -0.4964,  -9.9942, -15.2067,  -7.3550, -21.7039, -16.5664,\n",
      "          -8.2870,  15.7162,  -9.6427],\n",
      "        [ -3.4677, -10.2999, -14.7333, -10.5759,  -9.4105,  -2.1590,  13.8508,\n",
      "         -17.0874,   1.1712, -11.9464],\n",
      "        [-27.7573, -10.5400, -28.5391,  -7.9525,   1.9981, -21.7907, -33.8912,\n",
      "           0.3067, -12.1749,  13.0289],\n",
      "        [-30.4409, -22.2672,  -7.4587, -12.4056,  29.4898, -30.4148, -26.8994,\n",
      "         -16.9546,  -9.3736, -13.1488],\n",
      "        [ 18.0452, -14.6960, -11.2106,  -8.8943, -26.4834,  -2.3206,  -7.1105,\n",
      "         -18.3507, -26.4757,  -8.7946],\n",
      "        [-19.8870, -14.1813, -15.9106, -15.6344,   5.7761, -26.0977, -20.4424,\n",
      "          -0.7572,  -9.7667,  13.7174],\n",
      "        [-15.4160,  15.8470, -10.3917, -27.4020,  -2.7783, -26.8578, -17.5867,\n",
      "          -1.5830, -11.5183, -19.3475],\n",
      "        [-19.5612,   6.2849,   3.8583,  -4.1242, -13.4329, -12.9369, -14.1127,\n",
      "          -5.4061,  -4.0570, -16.1460],\n",
      "        [-22.6009, -14.2388,  34.5220,  -3.4893, -47.7579, -38.4086, -35.5628,\n",
      "          -8.0480,  -8.4539, -37.4626],\n",
      "        [-18.7180,  -7.8746, -18.7865, -28.8692,  25.6508, -31.7252, -20.0468,\n",
      "          -1.2793, -12.9789,  -4.1924],\n",
      "        [-69.8304, -21.5416, -22.5704,  41.9921, -42.4605,  -2.0495, -74.9042,\n",
      "         -35.0431, -17.4626,  -3.3709],\n",
      "        [-17.6736, -27.1464,  29.3856,  -2.8580, -63.0788, -30.5250, -33.0559,\n",
      "          -3.1441,   1.7747, -30.4063],\n",
      "        [-26.5115,  -1.9790,  -1.6346, -12.9579, -14.5277, -26.2252, -26.0050,\n",
      "          13.5189,  -4.0339, -19.8691],\n",
      "        [-32.2349,  -3.4704,   4.2011,  21.1066, -19.2109, -22.5137, -26.8361,\n",
      "          -2.5030,  -6.7901, -33.0009],\n",
      "        [-18.4598,  -9.6751, -14.3091,  -8.2085, -33.0535, -19.6595, -19.8776,\n",
      "         -14.3617,  18.6158, -11.6126],\n",
      "        [-14.8536, -12.0692, -26.7274, -25.3967, -13.1777,   1.9324,  26.4643,\n",
      "         -25.7233, -11.8229, -25.1589],\n",
      "        [-17.3956,  -4.0705, -27.9823, -12.4817,  -3.3707, -33.8329, -34.6691,\n",
      "           9.9119, -17.7159,  12.6925],\n",
      "        [ 23.3859, -12.5005,  -2.5464, -18.1132, -26.1840, -21.4374,  -3.3247,\n",
      "         -22.0985,  -9.6855, -12.9386],\n",
      "        [-11.9117, -20.2507, -16.9992,  -7.4347, -15.9384,  17.7808,  -1.2721,\n",
      "         -23.1980,  -5.5969,  -9.7699],\n",
      "        [-11.0106, -16.5277, -20.2592, -16.8739, -14.3961, -10.4189,  24.7422,\n",
      "         -26.9903,  -5.0495, -27.8981],\n",
      "        [ 32.6596, -24.5622,  -3.7008, -21.8291, -32.6237, -31.1121,  -4.4816,\n",
      "         -29.4718, -14.8193, -15.6928],\n",
      "        [-36.6734,  -4.8463,   1.4270,  -5.7324, -21.7877, -36.4032, -37.1844,\n",
      "          26.6951, -32.9241, -23.6883],\n",
      "        [ -4.9225, -14.0825, -20.7629, -15.1044,  -1.8537, -13.6893,  20.7409,\n",
      "         -16.1378, -14.1843, -15.9904],\n",
      "        [-23.8255,  12.8128, -16.5303, -18.8581,  -8.7061, -20.2811, -12.9548,\n",
      "           2.4466,  -6.6633, -10.9776],\n",
      "        [-16.6284,  -4.8168,  -5.2432,  -7.6885, -19.1564, -17.4478, -17.1246,\n",
      "         -14.3635,  15.7612,  -8.6019],\n",
      "        [-22.3007,  -1.5501,  -7.3196,  -6.1943, -18.5154, -20.6015, -23.5611,\n",
      "          19.4022, -15.0399,  -5.4729],\n",
      "        [-22.9587, -11.9463, -20.2113,  -4.8736,  -4.6552, -13.4121, -29.9618,\n",
      "          -5.9799,  -2.7398,  14.3222],\n",
      "        [-44.1351,  -6.7743,  -1.3371,  24.5354, -34.4249,  -6.4205, -36.0640,\n",
      "          -0.6432, -10.0511, -29.3823],\n",
      "        [-27.4430, -24.3897, -27.1529,  -0.8201,  -8.6341, -12.9373, -32.4105,\n",
      "         -10.1490,  -8.9436,  19.3389],\n",
      "        [ -6.4275, -10.3824,  -1.1301,  -6.5262, -20.6543, -10.6105, -10.7864,\n",
      "          -9.5198,  14.0989,  -9.6325],\n",
      "        [-27.5881, -19.7222, -15.8041,  -6.3775, -21.1207,  21.7363, -20.0560,\n",
      "         -33.0531,  -5.4780,  -9.5188],\n",
      "        [-20.6406,  -5.5016, -13.4622,  -0.6397, -11.7115,   1.0309, -18.1464,\n",
      "         -14.9705,  -1.4404,   5.7545],\n",
      "        [-47.5684, -21.1437, -24.3664,  27.2550, -35.5224,  10.8336, -48.2108,\n",
      "         -41.1251, -11.8348,  -0.1108],\n",
      "        [-28.9185, -14.0099, -15.8630,  18.4634, -21.9099,   6.2935, -28.2509,\n",
      "         -23.6754, -15.9290,  -7.2644],\n",
      "        [ 31.0688, -18.8191, -10.0796, -21.7289, -35.6214, -16.1635, -18.8381,\n",
      "         -18.4995, -29.5203,  -8.9825],\n",
      "        [-22.4512, -13.9148,   2.7111, -15.2037, -34.7762, -23.3585, -30.8241,\n",
      "          29.5271, -20.6270, -10.4022],\n",
      "        [-18.8031,  -6.0115, -16.7104, -22.9993,  13.6621, -33.5963, -24.6052,\n",
      "           6.5733,  -7.7780,   1.4886],\n",
      "        [-31.1298, -15.3169, -30.8608, -16.7868,  10.3619, -37.7971, -28.3333,\n",
      "          -2.0880, -17.8190,  17.1739],\n",
      "        [-21.4255,  -5.2243, -14.8088, -10.6602, -14.1085, -33.2715, -30.3500,\n",
      "          -3.5708,  17.7966,  -3.3320],\n",
      "        [ 31.3088, -22.7916, -15.5175, -25.8826, -33.3928, -13.6270, -11.8138,\n",
      "         -11.3999, -37.7780, -22.5865],\n",
      "        [-22.5426, -16.8320, -31.2216, -10.4370,  -0.8548, -29.2302, -33.9001,\n",
      "          -0.2822, -16.4980,  19.6704],\n",
      "        [-38.3394, -20.8928, -25.9648, -16.4167,  31.4609, -22.4062, -33.1932,\n",
      "         -18.0511,  -5.1345,  -7.4730],\n",
      "        [-16.6732,  14.9052,  -6.3449, -26.2669,  -7.0860, -22.1179, -12.8707,\n",
      "          -2.7557,  -4.7912, -25.2146],\n",
      "        [ -4.8274, -28.7043,  -6.8853, -27.8266,  25.5268, -37.4907,  -8.3124,\n",
      "          -0.2767, -22.1737,  -9.2372],\n",
      "        [-25.2804,  -9.0790, -17.3588, -19.8162,  21.9181, -25.4490, -25.7059,\n",
      "          -9.6603,  -6.2157,   0.2032],\n",
      "        [ -1.4192, -23.7934, -21.8789, -15.3224, -21.7803,  -5.2734,  20.9493,\n",
      "         -33.0947,   0.9519, -14.7262],\n",
      "        [ 14.7858, -16.0668,  -9.3829,  -9.8453, -23.8548,  -7.6250,  -8.1580,\n",
      "         -13.4822,   0.3616,  -6.5275]], grad_fn=<AddmmBackward0>)\n",
      "torch.Size([64, 10])\n",
      "128\n",
      "tensor(126)\n",
      "128\n",
      "tensor(125)\n",
      "128\n",
      "tensor(126)\n",
      "128\n",
      "tensor(121)\n",
      "128\n",
      "tensor(120)\n",
      "128\n",
      "tensor(122)\n",
      "128\n",
      "tensor(127)\n",
      "128\n",
      "tensor(126)\n",
      "128\n",
      "tensor(127)\n",
      "128\n",
      "tensor(124)\n",
      "128\n",
      "tensor(126)\n",
      "128\n",
      "tensor(126)\n",
      "128\n",
      "tensor(125)\n",
      "128\n",
      "tensor(126)\n",
      "128\n",
      "tensor(126)\n",
      "128\n",
      "tensor(120)\n",
      "128\n",
      "tensor(120)\n",
      "128\n",
      "tensor(124)\n",
      "128\n",
      "tensor(126)\n",
      "128\n",
      "tensor(128)\n",
      "128\n",
      "tensor(127)\n",
      "128\n",
      "tensor(123)\n",
      "128\n",
      "tensor(119)\n",
      "128\n",
      "tensor(121)\n",
      "128\n",
      "tensor(126)\n",
      "128\n",
      "tensor(126)\n",
      "128\n",
      "tensor(125)\n",
      "128\n",
      "tensor(122)\n",
      "128\n",
      "tensor(123)\n",
      "128\n",
      "tensor(125)\n",
      "128\n",
      "tensor(126)\n",
      "128\n",
      "tensor(121)\n",
      "128\n",
      "tensor(125)\n",
      "128\n",
      "tensor(125)\n",
      "128\n",
      "tensor(127)\n",
      "128\n",
      "tensor(124)\n",
      "128\n",
      "tensor(126)\n",
      "128\n",
      "tensor(125)\n",
      "128\n",
      "tensor(122)\n",
      "128\n",
      "tensor(126)\n",
      "128\n",
      "tensor(123)\n",
      "128\n",
      "tensor(126)\n",
      "128\n",
      "tensor(126)\n",
      "128\n",
      "tensor(127)\n",
      "128\n",
      "tensor(127)\n",
      "128\n",
      "tensor(124)\n",
      "128\n",
      "tensor(125)\n",
      "128\n",
      "tensor(126)\n",
      "128\n",
      "tensor(126)\n",
      "128\n",
      "tensor(122)\n",
      "128\n",
      "tensor(127)\n",
      "128\n",
      "tensor(127)\n",
      "128\n",
      "tensor(125)\n",
      "128\n",
      "tensor(126)\n",
      "128\n",
      "tensor(126)\n",
      "128\n",
      "tensor(126)\n",
      "128\n",
      "tensor(124)\n",
      "128\n",
      "tensor(121)\n",
      "128\n",
      "tensor(125)\n",
      "128\n",
      "tensor(126)\n",
      "128\n",
      "tensor(125)\n",
      "128\n",
      "tensor(127)\n",
      "128\n",
      "tensor(125)\n",
      "128\n",
      "tensor(125)\n",
      "128\n",
      "tensor(127)\n",
      "128\n",
      "tensor(127)\n",
      "128\n",
      "tensor(126)\n",
      "128\n",
      "tensor(127)\n",
      "128\n",
      "tensor(126)\n",
      "128\n",
      "tensor(124)\n",
      "128\n",
      "tensor(128)\n",
      "128\n",
      "tensor(126)\n",
      "128\n",
      "tensor(124)\n",
      "128\n",
      "tensor(123)\n",
      "128\n",
      "tensor(128)\n",
      "128\n",
      "tensor(122)\n",
      "128\n",
      "tensor(125)\n",
      "128\n",
      "tensor(124)\n",
      "16\n",
      "tensor(16)\n"
     ]
    }
   ],
   "source": [
    "correct = 0  # 正确样本数\n",
    "total = 0  # 总样本数\n",
    "print(model(xb))\n",
    "print(model(xb).shape)\n",
    "torch.max(model(xb), 1)  # 返回每一行的最大值，和最大值所在位置的索引\n",
    "# 模型输出结果沿着某个维度的最大值，这里是维度为1的方向\n",
    "for xb, yb in valid_dl:\n",
    "    output = model(xb)\n",
    "    _, predicted = torch.max(model(xb), 1)\n",
    "    total += yb.size(0)\n",
    "    print(yb.size(0))\n",
    "    print((predicted == yb).sum())\n"
   ],
   "metadata": {
    "collapsed": false
   }
  },
  {
   "cell_type": "code",
   "execution_count": 45,
   "outputs": [
    {
     "name": "stdout",
     "output_type": "stream",
     "text": [
      "Accuracy of the network on the 10000 test images: 97%\n"
     ]
    }
   ],
   "source": [
    "# 计算准确率(对验证集或者测试集计算) -- 即这50000个样本中分类正确的样本个数\n",
    "correct = 0  # 正确样本数\n",
    "total = 0  # 总样本数\n",
    "for xb, yb in valid_dl:\n",
    "    output = model(xb)\n",
    "    _, predicted = torch.max(model(xb), 1)\n",
    "    total += yb.size(0)\n",
    "    correct += (predicted == yb).sum().item()\n",
    "\n",
    "print(\"Accuracy of the network on the 10000 test images: %d%%\" % (100 * correct / total))"
   ],
   "metadata": {
    "collapsed": false
   }
  },
  {
   "cell_type": "markdown",
   "source": [
    "## SGD 正确率89%\n",
    "## Adam 正确率97%"
   ],
   "metadata": {
    "collapsed": false
   }
  }
 ],
 "metadata": {
  "kernelspec": {
   "display_name": "Python 3",
   "language": "python",
   "name": "python3"
  },
  "language_info": {
   "codemirror_mode": {
    "name": "ipython",
    "version": 2
   },
   "file_extension": ".py",
   "mimetype": "text/x-python",
   "name": "python",
   "nbconvert_exporter": "python",
   "pygments_lexer": "ipython2",
   "version": "2.7.6"
  }
 },
 "nbformat": 4,
 "nbformat_minor": 0
}
