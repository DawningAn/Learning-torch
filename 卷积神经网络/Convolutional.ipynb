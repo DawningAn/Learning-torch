{
 "cells": [
  {
   "cell_type": "code",
   "execution_count": 2,
   "metadata": {
    "collapsed": true
   },
   "outputs": [],
   "source": [
    "# 梳理卷积神经网络\n",
    "import torch\n",
    "import torch.nn as nn\n",
    "import torch.optim as optim\n",
    "import torch.nn.functional as F\n",
    "from torchvision import datasets, transforms\n",
    "import matplotlib.pyplot as plt\n",
    "import numpy as np\n"
   ]
  },
  {
   "cell_type": "code",
   "execution_count": 3,
   "outputs": [
    {
     "name": "stdout",
     "output_type": "stream",
     "text": [
      "Downloading http://yann.lecun.com/exdb/mnist/train-images-idx3-ubyte.gz\n",
      "Downloading http://yann.lecun.com/exdb/mnist/train-images-idx3-ubyte.gz to ./data\\MNIST\\raw\\train-images-idx3-ubyte.gz\n"
     ]
    },
    {
     "name": "stderr",
     "output_type": "stream",
     "text": [
      "100.0%\n"
     ]
    },
    {
     "name": "stdout",
     "output_type": "stream",
     "text": [
      "Extracting ./data\\MNIST\\raw\\train-images-idx3-ubyte.gz to ./data\\MNIST\\raw\n",
      "\n",
      "Downloading http://yann.lecun.com/exdb/mnist/train-labels-idx1-ubyte.gz\n",
      "Downloading http://yann.lecun.com/exdb/mnist/train-labels-idx1-ubyte.gz to ./data\\MNIST\\raw\\train-labels-idx1-ubyte.gz\n"
     ]
    },
    {
     "name": "stderr",
     "output_type": "stream",
     "text": [
      "100.0%\n"
     ]
    },
    {
     "name": "stdout",
     "output_type": "stream",
     "text": [
      "Extracting ./data\\MNIST\\raw\\train-labels-idx1-ubyte.gz to ./data\\MNIST\\raw\n",
      "\n",
      "Downloading http://yann.lecun.com/exdb/mnist/t10k-images-idx3-ubyte.gz\n",
      "Downloading http://yann.lecun.com/exdb/mnist/t10k-images-idx3-ubyte.gz to ./data\\MNIST\\raw\\t10k-images-idx3-ubyte.gz\n"
     ]
    },
    {
     "name": "stderr",
     "output_type": "stream",
     "text": [
      "100.0%\n"
     ]
    },
    {
     "name": "stdout",
     "output_type": "stream",
     "text": [
      "Extracting ./data\\MNIST\\raw\\t10k-images-idx3-ubyte.gz to ./data\\MNIST\\raw\n",
      "\n",
      "Downloading http://yann.lecun.com/exdb/mnist/t10k-labels-idx1-ubyte.gz\n",
      "Downloading http://yann.lecun.com/exdb/mnist/t10k-labels-idx1-ubyte.gz to ./data\\MNIST\\raw\\t10k-labels-idx1-ubyte.gz\n"
     ]
    },
    {
     "name": "stderr",
     "output_type": "stream",
     "text": [
      "100.0%"
     ]
    },
    {
     "name": "stdout",
     "output_type": "stream",
     "text": [
      "Extracting ./data\\MNIST\\raw\\t10k-labels-idx1-ubyte.gz to ./data\\MNIST\\raw\n",
      "\n"
     ]
    },
    {
     "name": "stderr",
     "output_type": "stream",
     "text": [
      "\n"
     ]
    }
   ],
   "source": [
    "# 定义超参数 ———— 这里还是使用Mnist数据集来梳理\n",
    "input_size = 28  #图像的总尺寸28*28\n",
    "num_classes = 10  #标签的种类数\n",
    "num_epochs = 3  #训练的总循环周期\n",
    "batch_size = 64  #一个撮（批次）的大小，64张图片\n",
    "\n",
    "# 训练集\n",
    "train_dataset = datasets.MNIST(root='./data',\n",
    "                               train=True,\n",
    "                               transform=transforms.ToTensor(),\n",
    "                               download=True)\n",
    "\n",
    "# 测试集\n",
    "test_dataset = datasets.MNIST(root='./data',\n",
    "                              train=False,\n",
    "                              transform=transforms.ToTensor())\n",
    "\n",
    "# 构建batch数据\n",
    "train_loader = torch.utils.data.DataLoader(dataset=train_dataset,\n",
    "                                           batch_size=batch_size,\n",
    "                                           shuffle=True)\n",
    "test_loader = torch.utils.data.DataLoader(dataset=test_dataset,\n",
    "                                          batch_size=batch_size,\n",
    "                                          shuffle=True)"
   ],
   "metadata": {
    "collapsed": false
   }
  },
  {
   "cell_type": "code",
   "execution_count": 4,
   "outputs": [],
   "source": [
    "# 构建网络\n",
    "class CNN(nn.Module):\n",
    "    def __init__(self):\n",
    "        super(CNN, self).__init__()\n",
    "        self.cov1 = nn.Sequential(\n",
    "            nn.Conv2d(  # 输入大小为(1, 28, 28)  ———— torch采用channelfirst策略，通道写在第一位\n",
    "                in_channels=1,  # 灰度图输入通道只有1\n",
    "                out_channels=16,  # 卷积核个数，即要得到的特征图的个数\n",
    "                kernel_size=5,  # 卷积核尺寸\n",
    "                stride=1,  # 步长\n",
    "                padding=2,  # 边界扩充2层\n",
    "                # {[(28 - 5) + 2 * 2] / 1 } + 1 = 28\n",
    "            ),  # 输出特征图大小为 16 * 28 * 28\n",
    "            nn.ReLU(),\n",
    "            nn.MaxPool2d(kernel_size=2),  # 最大池化， 得到输出为 (16, 14, 14)\n",
    "\n",
    "        )\n",
    "        self.cov2 = nn.Sequential(  # 输入大小为 (16, 14, 14)\n",
    "            nn.Conv2d(16, 32, 5, 1, 2),  # 输出为 (32, 14, 14)\n",
    "            nn.ReLU(),\n",
    "            nn.Conv2d(32, 32, 5, 1, 2),\n",
    "            nn.ReLU(),  # 这一步输出 (32, 14, 14)\n",
    "            nn.MaxPool2d(kernel_size=2),  # 输出大小为 (32, 7, 7)\n",
    "        )\n",
    "        self.cov3 = nn.Sequential(\n",
    "            nn.Conv2d(32, 64, 5, 1, 2),\n",
    "            nn.ReLU(),  # 输出为 (64, 7, 7)\n",
    "        )\n",
    "\n",
    "        self.out = nn.Linear(64 * 7 * 7, num_classes)\n",
    "\n",
    "    def forward(self, x):\n",
    "        # 前向传播\n",
    "        x = self.cov1(x)\n",
    "        x = self.cov2(x)\n",
    "        x = self.cov3(x)\n",
    "        x = x.view(x.size(0), -1)\n",
    "        # x四个维度（batch_size, channel, h, w） flatten操作，结果为：(batch_size, 32 * 7 * 7)\n",
    "        # 结果就是，batch的那个维度不变，-1 表示自动计算 即一共两个维度，第一个维度已经是batch_size,第二个维度自动计算出，使得其相乘结果等于原来的x的大小\n",
    "        output = self.out(x)\n",
    "        return output\n",
    "\n"
   ],
   "metadata": {
    "collapsed": false
   }
  },
  {
   "cell_type": "markdown",
   "source": [
    "### 准确率作为评估标准"
   ],
   "metadata": {
    "collapsed": false
   }
  },
  {
   "cell_type": "code",
   "execution_count": 5,
   "outputs": [],
   "source": [
    "def accuracy(predictions, labels):\n",
    "    pred = torch.max(predictions.data, 1)[1]\n",
    "    rights = pred.eq(labels.data.view_as(pred)).sum()\n",
    "    return rights, len(labels)"
   ],
   "metadata": {
    "collapsed": false
   }
  },
  {
   "cell_type": "code",
   "execution_count": 6,
   "outputs": [
    {
     "name": "stdout",
     "output_type": "stream",
     "text": [
      "当前epoch: 0 [0/60000 (0%)]\t损失: 2.302941\t训练集准确率: 6.25%\t测试集正确率: 10.10%\n",
      "当前epoch: 0 [6400/60000 (11%)]\t损失: 0.164504\t训练集准确率: 78.99%\t测试集正确率: 93.76%\n",
      "当前epoch: 0 [12800/60000 (21%)]\t损失: 0.087098\t训练集准确率: 86.97%\t测试集正确率: 95.45%\n",
      "当前epoch: 0 [19200/60000 (32%)]\t损失: 0.039481\t训练集准确率: 89.96%\t测试集正确率: 97.28%\n",
      "当前epoch: 0 [25600/60000 (43%)]\t损失: 0.024373\t训练集准确率: 91.75%\t测试集正确率: 98.09%\n",
      "当前epoch: 0 [32000/60000 (53%)]\t损失: 0.077950\t训练集准确率: 92.94%\t测试集正确率: 97.91%\n",
      "当前epoch: 0 [38400/60000 (64%)]\t损失: 0.077837\t训练集准确率: 93.72%\t测试集正确率: 98.23%\n",
      "当前epoch: 0 [44800/60000 (75%)]\t损失: 0.016997\t训练集准确率: 94.33%\t测试集正确率: 98.48%\n",
      "当前epoch: 0 [51200/60000 (85%)]\t损失: 0.053614\t训练集准确率: 94.82%\t测试集正确率: 98.57%\n",
      "当前epoch: 0 [57600/60000 (96%)]\t损失: 0.036403\t训练集准确率: 95.18%\t测试集正确率: 98.26%\n",
      "当前epoch: 1 [0/60000 (0%)]\t损失: 0.004105\t训练集准确率: 100.00%\t测试集正确率: 98.57%\n",
      "当前epoch: 1 [6400/60000 (11%)]\t损失: 0.015847\t训练集准确率: 98.79%\t测试集正确率: 98.72%\n",
      "当前epoch: 1 [12800/60000 (21%)]\t损失: 0.193936\t训练集准确率: 98.55%\t测试集正确率: 98.61%\n",
      "当前epoch: 1 [19200/60000 (32%)]\t损失: 0.131442\t训练集准确率: 98.48%\t测试集正确率: 98.54%\n",
      "当前epoch: 1 [25600/60000 (43%)]\t损失: 0.101447\t训练集准确率: 98.53%\t测试集正确率: 98.45%\n",
      "当前epoch: 1 [32000/60000 (53%)]\t损失: 0.003203\t训练集准确率: 98.56%\t测试集正确率: 99.00%\n",
      "当前epoch: 1 [38400/60000 (64%)]\t损失: 0.015976\t训练集准确率: 98.56%\t测试集正确率: 99.05%\n",
      "当前epoch: 1 [44800/60000 (75%)]\t损失: 0.006184\t训练集准确率: 98.59%\t测试集正确率: 98.77%\n",
      "当前epoch: 1 [51200/60000 (85%)]\t损失: 0.120727\t训练集准确率: 98.65%\t测试集正确率: 98.89%\n",
      "当前epoch: 1 [57600/60000 (96%)]\t损失: 0.046131\t训练集准确率: 98.66%\t测试集正确率: 98.84%\n",
      "当前epoch: 2 [0/60000 (0%)]\t损失: 0.128228\t训练集准确率: 96.88%\t测试集正确率: 99.04%\n",
      "当前epoch: 2 [6400/60000 (11%)]\t损失: 0.040311\t训练集准确率: 99.21%\t测试集正确率: 98.75%\n",
      "当前epoch: 2 [12800/60000 (21%)]\t损失: 0.037506\t训练集准确率: 99.13%\t测试集正确率: 97.86%\n",
      "当前epoch: 2 [19200/60000 (32%)]\t损失: 0.006498\t训练集准确率: 99.19%\t测试集正确率: 98.86%\n",
      "当前epoch: 2 [25600/60000 (43%)]\t损失: 0.001573\t训练集准确率: 99.20%\t测试集正确率: 98.95%\n",
      "当前epoch: 2 [32000/60000 (53%)]\t损失: 0.029392\t训练集准确率: 99.16%\t测试集正确率: 98.76%\n",
      "当前epoch: 2 [38400/60000 (64%)]\t损失: 0.002222\t训练集准确率: 99.17%\t测试集正确率: 99.03%\n",
      "当前epoch: 2 [44800/60000 (75%)]\t损失: 0.110221\t训练集准确率: 99.14%\t测试集正确率: 98.87%\n",
      "当前epoch: 2 [51200/60000 (85%)]\t损失: 0.067527\t训练集准确率: 99.12%\t测试集正确率: 98.77%\n",
      "当前epoch: 2 [57600/60000 (96%)]\t损失: 0.014509\t训练集准确率: 99.11%\t测试集正确率: 98.81%\n"
     ]
    }
   ],
   "source": [
    "# 实例化\n",
    "net = CNN()\n",
    "#损失函数\n",
    "criterion = nn.CrossEntropyLoss()\n",
    "#优化器\n",
    "optimizer = optim.Adam(net.parameters(), lr=0.001) #定义优化器，普通的随机梯度下降算法\n",
    "\n",
    "#开始训练循环\n",
    "for epoch in range(num_epochs):\n",
    "    #当前epoch的结果保存下来\n",
    "    train_rights = []\n",
    "\n",
    "    for batch_idx, (data, target) in enumerate(train_loader):  #针对容器中的每一个批进行循环\n",
    "        net.train()\n",
    "        output = net(data)\n",
    "        loss = criterion(output, target)\n",
    "        optimizer.zero_grad()\n",
    "        loss.backward()\n",
    "        optimizer.step()\n",
    "        right = accuracy(output, target)\n",
    "        train_rights.append(right)\n",
    "\n",
    "\n",
    "        if batch_idx % 100 == 0:\n",
    "\n",
    "            net.eval()\n",
    "            val_rights = []\n",
    "\n",
    "            for (data, target) in test_loader:\n",
    "                output = net(data)\n",
    "                right = accuracy(output, target)\n",
    "                val_rights.append(right)\n",
    "\n",
    "            #准确率计算\n",
    "            train_r = (sum([tup[0] for tup in train_rights]), sum([tup[1] for tup in train_rights]))\n",
    "            val_r = (sum([tup[0] for tup in val_rights]), sum([tup[1] for tup in val_rights]))\n",
    "\n",
    "            print('当前epoch: {} [{}/{} ({:.0f}%)]\\t损失: {:.6f}\\t训练集准确率: {:.2f}%\\t测试集正确率: {:.2f}%'.format(\n",
    "                epoch, batch_idx * batch_size, len(train_loader.dataset),\n",
    "                100. * batch_idx / len(train_loader),\n",
    "                loss.data,\n",
    "                100. * train_r[0].numpy() / train_r[1],\n",
    "                100. * val_r[0].numpy() / val_r[1]))"
   ],
   "metadata": {
    "collapsed": false
   }
  }
 ],
 "metadata": {
  "kernelspec": {
   "display_name": "Python 3",
   "language": "python",
   "name": "python3"
  },
  "language_info": {
   "codemirror_mode": {
    "name": "ipython",
    "version": 2
   },
   "file_extension": ".py",
   "mimetype": "text/x-python",
   "name": "python",
   "nbconvert_exporter": "python",
   "pygments_lexer": "ipython2",
   "version": "2.7.6"
  }
 },
 "nbformat": 4,
 "nbformat_minor": 0
}
