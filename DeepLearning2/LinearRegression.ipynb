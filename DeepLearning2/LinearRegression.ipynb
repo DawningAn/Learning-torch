{
 "cells": [
  {
   "cell_type": "markdown",
   "source": [
    "# 线性回归从零开始实现"
   ],
   "metadata": {
    "collapsed": false
   }
  },
  {
   "cell_type": "code",
   "execution_count": 1,
   "outputs": [
    {
     "name": "stderr",
     "output_type": "stream",
     "text": [
      "UsageError: Line magic function `%` not found.\n"
     ]
    }
   ],
   "source": [
    "% matplotlib inline\n",
    "import random\n",
    "import torch\n",
    "from d2l import torch as d2l"
   ],
   "metadata": {
    "collapsed": false
   }
  },
  {
   "cell_type": "code",
   "execution_count": 2,
   "outputs": [
    {
     "ename": "NameError",
     "evalue": "name 'torch' is not defined",
     "output_type": "error",
     "traceback": [
      "\u001B[1;31m---------------------------------------------------------------------------\u001B[0m",
      "\u001B[1;31mNameError\u001B[0m                                 Traceback (most recent call last)",
      "Cell \u001B[1;32mIn[2], line 9\u001B[0m\n\u001B[0;32m      6\u001B[0m     y \u001B[38;5;241m+\u001B[39m\u001B[38;5;241m=\u001B[39m torch\u001B[38;5;241m.\u001B[39mnormal(\u001B[38;5;241m0\u001B[39m,\u001B[38;5;241m0.01\u001B[39m,y\u001B[38;5;241m.\u001B[39mshape)\n\u001B[0;32m      7\u001B[0m     \u001B[38;5;28;01mreturn\u001B[39;00m X, y\u001B[38;5;241m.\u001B[39mreshape((\u001B[38;5;241m-\u001B[39m\u001B[38;5;241m1\u001B[39m,\u001B[38;5;241m1\u001B[39m))\n\u001B[1;32m----> 9\u001B[0m true_w \u001B[38;5;241m=\u001B[39m \u001B[43mtorch\u001B[49m\u001B[38;5;241m.\u001B[39mtensor([\u001B[38;5;241m2\u001B[39m,\u001B[38;5;241m-\u001B[39m\u001B[38;5;241m3.4\u001B[39m])\n\u001B[0;32m     10\u001B[0m true_b \u001B[38;5;241m=\u001B[39m \u001B[38;5;241m4.2\u001B[39m\n\u001B[0;32m     11\u001B[0m features,labels \u001B[38;5;241m=\u001B[39m synthetic_data(true_w,true_b,\u001B[38;5;241m1000\u001B[39m)\n",
      "\u001B[1;31mNameError\u001B[0m: name 'torch' is not defined"
     ]
    }
   ],
   "source": [
    "# 生成数据集\n",
    "def synthetic_data(w,b,num_example):  # w,b,样本数量\n",
    "    X = torch.normal(0,1,(num_example,len(w)))  # 均值，方差，样本量与样本长度\n",
    "    y = torch.matmul(X,w) + b  # 矩阵乘法\n",
    "    # 加入随机噪声\n",
    "    y += torch.normal(0,0.01,y.shape)\n",
    "    return X, y.reshape((-1,1))\n",
    "\n",
    "true_w = torch.tensor([2,-3.4])\n",
    "true_b = 4.2\n",
    "features,labels = synthetic_data(true_w,true_b,1000)\n"
   ],
   "metadata": {
    "collapsed": false
   }
  },
  {
   "cell_type": "code",
   "execution_count": null,
   "outputs": [],
   "source": [
    "print('features:', features[0],'\\nlabel:', labels[0])"
   ],
   "metadata": {
    "collapsed": false
   }
  }
 ],
 "metadata": {
  "kernelspec": {
   "display_name": "Python 3",
   "language": "python",
   "name": "python3"
  },
  "language_info": {
   "codemirror_mode": {
    "name": "ipython",
    "version": 2
   },
   "file_extension": ".py",
   "mimetype": "text/x-python",
   "name": "python",
   "nbconvert_exporter": "python",
   "pygments_lexer": "ipython2",
   "version": "2.7.6"
  }
 },
 "nbformat": 4,
 "nbformat_minor": 0
}
